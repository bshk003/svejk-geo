


import pandas as pd
import yaml, os, sys

notebook_dir = os.path.dirname(os.path.abspath('__file__'))
project_root = notebook_dir

if project_root not in sys.path:
    sys.path.append(project_root)

df=pd.read_excel(project_root + '/data/raw/data.xlsx', header=1)
df = df[['Kód kraje', 'Správní obvod obce\ns rozšířenou působností\n(SO ORP)', 'Název obce']].dropna()
df.rename(columns={'Kód kraje': 'region_code', 
                   'Správní obvod obce\ns rozšířenou působností\n(SO ORP)': 'district',
                   'Název obce': 'municipality'}, inplace=True)

df.replace('P R A H A', 'Praha', inplace=True) # V Praze je draze.

# The cities names, such as Brno, are spelled in all caps (BRNO) in the original Excel-file.
# We reformat such instances to the usual spelling.
# Note that prepositions are not supposed to be capitalized.

PREPOSITIONS = ['v', 'na', 'nad', 'pod', 'u'] # Předložky
format_municipality_name = lambda name: ' '.join(word.title() if word not in PREPOSITIONS else word for word in name.strip().split()) 

df['municipality'] = df['municipality'].apply(format_municipality_name)
df.head(10)


# There are different localities that share the same name and happen to be in different districts.
# For instance, the lexikon lists 14 villages named Nová Ves, 9 villages named Němčice etc.

df_grouped = df.groupby('municipality')['district'].apply(list).reset_index()
very_common_names = df_grouped['district'].apply(len).nlargest(10).index
print (df_grouped.loc[very_common_names])
df_grouped.loc[very_common_names]['district'].apply(len)


df_grouped.to_csv(project_root + '/data/clean/localities.csv')


df_grouped['municipality']



