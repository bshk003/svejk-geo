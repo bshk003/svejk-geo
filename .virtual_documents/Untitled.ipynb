# import spacy_udpipe

# nlp = spacy_udpipe.load_from_path(lang="hr",
#                                   path="./custom_croatian.udpipe",
#                                   meta={"description": "Custom 'hr' model"})
# text = "Wikipedija je enciklopedija slobodnog sadržaja."

# doc = nlp(text)
# for token in doc:
#     print(token.text, token.lemma_, token.pos_, token.dep_)

import spacy_udpipe

nlp = spacy_udpipe.load_from_path(lang='cs', path='./czech-pdt-ud-2.5-191206.udpipe')

text = "Desítky kilogramů ryb v Praze uhynuly v důsledku nedostatku kyslíku v malém rybníku na návsi v obci Suchý u Boskovic. Jeho úbytek nastal kvůli vedru. O události...."

doc = nlp(text)
for token in doc:
    print(token.text, token.lemma_, token.ent_kb_id)



