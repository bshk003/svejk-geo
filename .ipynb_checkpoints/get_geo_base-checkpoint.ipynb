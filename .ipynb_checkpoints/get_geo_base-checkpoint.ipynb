{
 "cells": [
  {
   "cell_type": "code",
   "execution_count": 8,
   "id": "ba37479d-d872-42fb-bf4b-7cb518d8b64d",
   "metadata": {},
   "outputs": [
    {
     "data": {
      "text/plain": [
       "0                 NaN\n",
       "1                 NaN\n",
       "2                   b\n",
       "3                 NaN\n",
       "4                 NaN\n",
       "5           P R A H A\n",
       "6                 NaN\n",
       "7             Benešov\n",
       "8            Bukovany\n",
       "9            Bystřice\n",
       "10              Čakov\n",
       "11            Čerčany\n",
       "12    Český Šternberk\n",
       "13           Čtyřkoly\n",
       "14            Divišov\n",
       "15         Drahňovice\n",
       "16         Hvězdonice\n",
       "17          Chářovice\n",
       "18             Chleby\n",
       "19           Chlístov\n",
       "Name: Název obce, dtype: object"
      ]
     },
     "execution_count": 8,
     "metadata": {},
     "output_type": "execute_result"
    }
   ],
   "source": [
    "import pandas as pd\n",
    "import yaml, os, sys\n",
    "\n",
    "notebook_dir = os.path.dirname(os.path.abspath('__file__'))\n",
    "#project_root = os.path.join(notebook_dir, os.pardir)\n",
    "project_root = notebook_dir\n",
    "\n",
    "if project_root not in sys.path:\n",
    "    sys.path.append(project_root)\n",
    "\n",
    "# with open('') as f:\n",
    "#     config_params = \n",
    "\n",
    "df=pd.read_excel(project_root + '/data/raw/data.xlsx', header=1)\n",
    "df['Název obce'].head(20)"
   ]
  },
  {
   "cell_type": "code",
   "execution_count": null,
   "id": "d0f5366e-ced3-445e-bfcd-b2f0734372b6",
   "metadata": {},
   "outputs": [],
   "source": []
  }
 ],
 "metadata": {
  "kernelspec": {
   "display_name": "Python 3 (ipykernel)",
   "language": "python",
   "name": "python3"
  },
  "language_info": {
   "codemirror_mode": {
    "name": "ipython",
    "version": 3
   },
   "file_extension": ".py",
   "mimetype": "text/x-python",
   "name": "python",
   "nbconvert_exporter": "python",
   "pygments_lexer": "ipython3",
   "version": "3.13.5"
  }
 },
 "nbformat": 4,
 "nbformat_minor": 5
}
